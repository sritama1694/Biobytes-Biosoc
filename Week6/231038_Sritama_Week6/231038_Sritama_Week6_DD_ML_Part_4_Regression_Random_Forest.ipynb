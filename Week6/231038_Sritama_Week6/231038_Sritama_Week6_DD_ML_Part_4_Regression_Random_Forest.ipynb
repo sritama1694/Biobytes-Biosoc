{
  "nbformat": 4,
  "nbformat_minor": 0,
  "metadata": {
    "kernelspec": {
      "display_name": "Python 3",
      "language": "python",
      "name": "python3"
    },
    "language_info": {
      "codemirror_mode": {
        "name": "ipython",
        "version": 3
      },
      "file_extension": ".py",
      "mimetype": "text/x-python",
      "name": "python",
      "nbconvert_exporter": "python",
      "pygments_lexer": "ipython3",
      "version": "3.7.6"
    },
    "colab": {
      "provenance": []
    }
  },
  "cells": [
    {
      "cell_type": "markdown",
      "metadata": {
        "id": "7AAfh_j7hSwQ"
      },
      "source": [
        "# **Drug Discovery [Part 4] Regression Models Comparision**\n",
        "\n",
        "In **Part 4**, we have built Random Forest, Linear Regression, Decision Tree, Neural Network and K Neighbours Classifier and have done a comparative study of them.\n",
        "---"
      ]
    },
    {
      "cell_type": "markdown",
      "metadata": {
        "id": "jw7MqTMphSwR"
      },
      "source": [
        "## **1. Import libraries**"
      ]
    },
    {
      "cell_type": "code",
      "metadata": {
        "id": "D3rFTNAIhSwS"
      },
      "source": [
        "import pandas as pd\n",
        "import seaborn as sns\n",
        "from sklearn.model_selection import train_test_split\n",
        "from sklearn.ensemble import RandomForestRegressor\n"
      ],
      "execution_count": null,
      "outputs": []
    },
    {
      "cell_type": "markdown",
      "metadata": {
        "id": "0GvT3PArhSwX"
      },
      "source": [
        "## **2. Load the data set**"
      ]
    },
    {
      "cell_type": "code",
      "metadata": {
        "id": "cSgppzqPiR0G"
      },
      "source": [
        "df = pd.read_csv('/content/coronavirus_06_bioactivity_data_3class_pIC50_pubchem_fp.csv')"
      ],
      "execution_count": null,
      "outputs": []
    },
    {
      "cell_type": "markdown",
      "metadata": {
        "id": "kuiiC0xthSwb"
      },
      "source": [
        "## **3. Input features**\n",
        "The ***Coronavirus*** data set contains 881 input features and 1 output variable (pIC50 values)."
      ]
    },
    {
      "cell_type": "markdown",
      "metadata": {
        "id": "iCeQQn0uhSwb"
      },
      "source": [
        "### **3.1. Input features**"
      ]
    },
    {
      "cell_type": "code",
      "metadata": {
        "scrolled": true,
        "id": "li32nAPohSwc",
        "colab": {
          "base_uri": "https://localhost:8080/",
          "height": 443
        },
        "outputId": "ad52edfe-48fc-4cd9-a59d-58600790cfc3"
      },
      "source": [
        "X = df.drop('pIC50', axis=1)\n",
        "X"
      ],
      "execution_count": null,
      "outputs": [
        {
          "output_type": "execute_result",
          "data": {
            "text/plain": [
              "    PubchemFP0  PubchemFP1  PubchemFP2  PubchemFP3  PubchemFP4  PubchemFP5  \\\n",
              "0            1           1           0           0           0           0   \n",
              "1            1           1           0           0           0           0   \n",
              "2            1           1           0           0           0           0   \n",
              "3            1           1           0           0           0           0   \n",
              "4            1           1           0           0           0           0   \n",
              "..         ...         ...         ...         ...         ...         ...   \n",
              "81           1           1           1           0           0           0   \n",
              "82           1           1           1           0           0           0   \n",
              "83           1           1           0           0           0           0   \n",
              "84           1           1           0           0           0           0   \n",
              "85           1           1           1           0           0           0   \n",
              "\n",
              "    PubchemFP6  PubchemFP7  PubchemFP8  PubchemFP9  ...  PubchemFP871  \\\n",
              "0            0           0           0           1  ...             0   \n",
              "1            0           0           0           1  ...             0   \n",
              "2            0           0           0           1  ...             0   \n",
              "3            0           0           0           1  ...             0   \n",
              "4            0           0           0           1  ...             0   \n",
              "..         ...         ...         ...         ...  ...           ...   \n",
              "81           0           0           0           1  ...             0   \n",
              "82           0           0           0           1  ...             0   \n",
              "83           0           0           0           1  ...             0   \n",
              "84           0           0           0           1  ...             0   \n",
              "85           0           0           0           1  ...             0   \n",
              "\n",
              "    PubchemFP872  PubchemFP873  PubchemFP874  PubchemFP875  PubchemFP876  \\\n",
              "0              0             0             0             0             0   \n",
              "1              0             0             0             0             0   \n",
              "2              0             0             0             0             0   \n",
              "3              0             0             0             0             0   \n",
              "4              0             0             0             0             0   \n",
              "..           ...           ...           ...           ...           ...   \n",
              "81             0             0             0             0             0   \n",
              "82             0             0             0             0             0   \n",
              "83             0             0             0             0             0   \n",
              "84             0             0             0             0             0   \n",
              "85             0             0             0             0             0   \n",
              "\n",
              "    PubchemFP877  PubchemFP878  PubchemFP879  PubchemFP880  \n",
              "0              0             0             0             0  \n",
              "1              0             0             0             0  \n",
              "2              0             0             0             0  \n",
              "3              0             0             0             0  \n",
              "4              0             0             0             0  \n",
              "..           ...           ...           ...           ...  \n",
              "81             0             0             0             0  \n",
              "82             0             0             0             0  \n",
              "83             0             0             0             0  \n",
              "84             0             0             0             0  \n",
              "85             0             0             0             0  \n",
              "\n",
              "[86 rows x 881 columns]"
            ],
            "text/html": [
              "\n",
              "  <div id=\"df-195d0f03-84e7-4a89-978b-cbbc3f2aba2f\" class=\"colab-df-container\">\n",
              "    <div>\n",
              "<style scoped>\n",
              "    .dataframe tbody tr th:only-of-type {\n",
              "        vertical-align: middle;\n",
              "    }\n",
              "\n",
              "    .dataframe tbody tr th {\n",
              "        vertical-align: top;\n",
              "    }\n",
              "\n",
              "    .dataframe thead th {\n",
              "        text-align: right;\n",
              "    }\n",
              "</style>\n",
              "<table border=\"1\" class=\"dataframe\">\n",
              "  <thead>\n",
              "    <tr style=\"text-align: right;\">\n",
              "      <th></th>\n",
              "      <th>PubchemFP0</th>\n",
              "      <th>PubchemFP1</th>\n",
              "      <th>PubchemFP2</th>\n",
              "      <th>PubchemFP3</th>\n",
              "      <th>PubchemFP4</th>\n",
              "      <th>PubchemFP5</th>\n",
              "      <th>PubchemFP6</th>\n",
              "      <th>PubchemFP7</th>\n",
              "      <th>PubchemFP8</th>\n",
              "      <th>PubchemFP9</th>\n",
              "      <th>...</th>\n",
              "      <th>PubchemFP871</th>\n",
              "      <th>PubchemFP872</th>\n",
              "      <th>PubchemFP873</th>\n",
              "      <th>PubchemFP874</th>\n",
              "      <th>PubchemFP875</th>\n",
              "      <th>PubchemFP876</th>\n",
              "      <th>PubchemFP877</th>\n",
              "      <th>PubchemFP878</th>\n",
              "      <th>PubchemFP879</th>\n",
              "      <th>PubchemFP880</th>\n",
              "    </tr>\n",
              "  </thead>\n",
              "  <tbody>\n",
              "    <tr>\n",
              "      <th>0</th>\n",
              "      <td>1</td>\n",
              "      <td>1</td>\n",
              "      <td>0</td>\n",
              "      <td>0</td>\n",
              "      <td>0</td>\n",
              "      <td>0</td>\n",
              "      <td>0</td>\n",
              "      <td>0</td>\n",
              "      <td>0</td>\n",
              "      <td>1</td>\n",
              "      <td>...</td>\n",
              "      <td>0</td>\n",
              "      <td>0</td>\n",
              "      <td>0</td>\n",
              "      <td>0</td>\n",
              "      <td>0</td>\n",
              "      <td>0</td>\n",
              "      <td>0</td>\n",
              "      <td>0</td>\n",
              "      <td>0</td>\n",
              "      <td>0</td>\n",
              "    </tr>\n",
              "    <tr>\n",
              "      <th>1</th>\n",
              "      <td>1</td>\n",
              "      <td>1</td>\n",
              "      <td>0</td>\n",
              "      <td>0</td>\n",
              "      <td>0</td>\n",
              "      <td>0</td>\n",
              "      <td>0</td>\n",
              "      <td>0</td>\n",
              "      <td>0</td>\n",
              "      <td>1</td>\n",
              "      <td>...</td>\n",
              "      <td>0</td>\n",
              "      <td>0</td>\n",
              "      <td>0</td>\n",
              "      <td>0</td>\n",
              "      <td>0</td>\n",
              "      <td>0</td>\n",
              "      <td>0</td>\n",
              "      <td>0</td>\n",
              "      <td>0</td>\n",
              "      <td>0</td>\n",
              "    </tr>\n",
              "    <tr>\n",
              "      <th>2</th>\n",
              "      <td>1</td>\n",
              "      <td>1</td>\n",
              "      <td>0</td>\n",
              "      <td>0</td>\n",
              "      <td>0</td>\n",
              "      <td>0</td>\n",
              "      <td>0</td>\n",
              "      <td>0</td>\n",
              "      <td>0</td>\n",
              "      <td>1</td>\n",
              "      <td>...</td>\n",
              "      <td>0</td>\n",
              "      <td>0</td>\n",
              "      <td>0</td>\n",
              "      <td>0</td>\n",
              "      <td>0</td>\n",
              "      <td>0</td>\n",
              "      <td>0</td>\n",
              "      <td>0</td>\n",
              "      <td>0</td>\n",
              "      <td>0</td>\n",
              "    </tr>\n",
              "    <tr>\n",
              "      <th>3</th>\n",
              "      <td>1</td>\n",
              "      <td>1</td>\n",
              "      <td>0</td>\n",
              "      <td>0</td>\n",
              "      <td>0</td>\n",
              "      <td>0</td>\n",
              "      <td>0</td>\n",
              "      <td>0</td>\n",
              "      <td>0</td>\n",
              "      <td>1</td>\n",
              "      <td>...</td>\n",
              "      <td>0</td>\n",
              "      <td>0</td>\n",
              "      <td>0</td>\n",
              "      <td>0</td>\n",
              "      <td>0</td>\n",
              "      <td>0</td>\n",
              "      <td>0</td>\n",
              "      <td>0</td>\n",
              "      <td>0</td>\n",
              "      <td>0</td>\n",
              "    </tr>\n",
              "    <tr>\n",
              "      <th>4</th>\n",
              "      <td>1</td>\n",
              "      <td>1</td>\n",
              "      <td>0</td>\n",
              "      <td>0</td>\n",
              "      <td>0</td>\n",
              "      <td>0</td>\n",
              "      <td>0</td>\n",
              "      <td>0</td>\n",
              "      <td>0</td>\n",
              "      <td>1</td>\n",
              "      <td>...</td>\n",
              "      <td>0</td>\n",
              "      <td>0</td>\n",
              "      <td>0</td>\n",
              "      <td>0</td>\n",
              "      <td>0</td>\n",
              "      <td>0</td>\n",
              "      <td>0</td>\n",
              "      <td>0</td>\n",
              "      <td>0</td>\n",
              "      <td>0</td>\n",
              "    </tr>\n",
              "    <tr>\n",
              "      <th>...</th>\n",
              "      <td>...</td>\n",
              "      <td>...</td>\n",
              "      <td>...</td>\n",
              "      <td>...</td>\n",
              "      <td>...</td>\n",
              "      <td>...</td>\n",
              "      <td>...</td>\n",
              "      <td>...</td>\n",
              "      <td>...</td>\n",
              "      <td>...</td>\n",
              "      <td>...</td>\n",
              "      <td>...</td>\n",
              "      <td>...</td>\n",
              "      <td>...</td>\n",
              "      <td>...</td>\n",
              "      <td>...</td>\n",
              "      <td>...</td>\n",
              "      <td>...</td>\n",
              "      <td>...</td>\n",
              "      <td>...</td>\n",
              "      <td>...</td>\n",
              "    </tr>\n",
              "    <tr>\n",
              "      <th>81</th>\n",
              "      <td>1</td>\n",
              "      <td>1</td>\n",
              "      <td>1</td>\n",
              "      <td>0</td>\n",
              "      <td>0</td>\n",
              "      <td>0</td>\n",
              "      <td>0</td>\n",
              "      <td>0</td>\n",
              "      <td>0</td>\n",
              "      <td>1</td>\n",
              "      <td>...</td>\n",
              "      <td>0</td>\n",
              "      <td>0</td>\n",
              "      <td>0</td>\n",
              "      <td>0</td>\n",
              "      <td>0</td>\n",
              "      <td>0</td>\n",
              "      <td>0</td>\n",
              "      <td>0</td>\n",
              "      <td>0</td>\n",
              "      <td>0</td>\n",
              "    </tr>\n",
              "    <tr>\n",
              "      <th>82</th>\n",
              "      <td>1</td>\n",
              "      <td>1</td>\n",
              "      <td>1</td>\n",
              "      <td>0</td>\n",
              "      <td>0</td>\n",
              "      <td>0</td>\n",
              "      <td>0</td>\n",
              "      <td>0</td>\n",
              "      <td>0</td>\n",
              "      <td>1</td>\n",
              "      <td>...</td>\n",
              "      <td>0</td>\n",
              "      <td>0</td>\n",
              "      <td>0</td>\n",
              "      <td>0</td>\n",
              "      <td>0</td>\n",
              "      <td>0</td>\n",
              "      <td>0</td>\n",
              "      <td>0</td>\n",
              "      <td>0</td>\n",
              "      <td>0</td>\n",
              "    </tr>\n",
              "    <tr>\n",
              "      <th>83</th>\n",
              "      <td>1</td>\n",
              "      <td>1</td>\n",
              "      <td>0</td>\n",
              "      <td>0</td>\n",
              "      <td>0</td>\n",
              "      <td>0</td>\n",
              "      <td>0</td>\n",
              "      <td>0</td>\n",
              "      <td>0</td>\n",
              "      <td>1</td>\n",
              "      <td>...</td>\n",
              "      <td>0</td>\n",
              "      <td>0</td>\n",
              "      <td>0</td>\n",
              "      <td>0</td>\n",
              "      <td>0</td>\n",
              "      <td>0</td>\n",
              "      <td>0</td>\n",
              "      <td>0</td>\n",
              "      <td>0</td>\n",
              "      <td>0</td>\n",
              "    </tr>\n",
              "    <tr>\n",
              "      <th>84</th>\n",
              "      <td>1</td>\n",
              "      <td>1</td>\n",
              "      <td>0</td>\n",
              "      <td>0</td>\n",
              "      <td>0</td>\n",
              "      <td>0</td>\n",
              "      <td>0</td>\n",
              "      <td>0</td>\n",
              "      <td>0</td>\n",
              "      <td>1</td>\n",
              "      <td>...</td>\n",
              "      <td>0</td>\n",
              "      <td>0</td>\n",
              "      <td>0</td>\n",
              "      <td>0</td>\n",
              "      <td>0</td>\n",
              "      <td>0</td>\n",
              "      <td>0</td>\n",
              "      <td>0</td>\n",
              "      <td>0</td>\n",
              "      <td>0</td>\n",
              "    </tr>\n",
              "    <tr>\n",
              "      <th>85</th>\n",
              "      <td>1</td>\n",
              "      <td>1</td>\n",
              "      <td>1</td>\n",
              "      <td>0</td>\n",
              "      <td>0</td>\n",
              "      <td>0</td>\n",
              "      <td>0</td>\n",
              "      <td>0</td>\n",
              "      <td>0</td>\n",
              "      <td>1</td>\n",
              "      <td>...</td>\n",
              "      <td>0</td>\n",
              "      <td>0</td>\n",
              "      <td>0</td>\n",
              "      <td>0</td>\n",
              "      <td>0</td>\n",
              "      <td>0</td>\n",
              "      <td>0</td>\n",
              "      <td>0</td>\n",
              "      <td>0</td>\n",
              "      <td>0</td>\n",
              "    </tr>\n",
              "  </tbody>\n",
              "</table>\n",
              "<p>86 rows × 881 columns</p>\n",
              "</div>\n",
              "    <div class=\"colab-df-buttons\">\n",
              "\n",
              "  <div class=\"colab-df-container\">\n",
              "    <button class=\"colab-df-convert\" onclick=\"convertToInteractive('df-195d0f03-84e7-4a89-978b-cbbc3f2aba2f')\"\n",
              "            title=\"Convert this dataframe to an interactive table.\"\n",
              "            style=\"display:none;\">\n",
              "\n",
              "  <svg xmlns=\"http://www.w3.org/2000/svg\" height=\"24px\" viewBox=\"0 -960 960 960\">\n",
              "    <path d=\"M120-120v-720h720v720H120Zm60-500h600v-160H180v160Zm220 220h160v-160H400v160Zm0 220h160v-160H400v160ZM180-400h160v-160H180v160Zm440 0h160v-160H620v160ZM180-180h160v-160H180v160Zm440 0h160v-160H620v160Z\"/>\n",
              "  </svg>\n",
              "    </button>\n",
              "\n",
              "  <style>\n",
              "    .colab-df-container {\n",
              "      display:flex;\n",
              "      gap: 12px;\n",
              "    }\n",
              "\n",
              "    .colab-df-convert {\n",
              "      background-color: #E8F0FE;\n",
              "      border: none;\n",
              "      border-radius: 50%;\n",
              "      cursor: pointer;\n",
              "      display: none;\n",
              "      fill: #1967D2;\n",
              "      height: 32px;\n",
              "      padding: 0 0 0 0;\n",
              "      width: 32px;\n",
              "    }\n",
              "\n",
              "    .colab-df-convert:hover {\n",
              "      background-color: #E2EBFA;\n",
              "      box-shadow: 0px 1px 2px rgba(60, 64, 67, 0.3), 0px 1px 3px 1px rgba(60, 64, 67, 0.15);\n",
              "      fill: #174EA6;\n",
              "    }\n",
              "\n",
              "    .colab-df-buttons div {\n",
              "      margin-bottom: 4px;\n",
              "    }\n",
              "\n",
              "    [theme=dark] .colab-df-convert {\n",
              "      background-color: #3B4455;\n",
              "      fill: #D2E3FC;\n",
              "    }\n",
              "\n",
              "    [theme=dark] .colab-df-convert:hover {\n",
              "      background-color: #434B5C;\n",
              "      box-shadow: 0px 1px 3px 1px rgba(0, 0, 0, 0.15);\n",
              "      filter: drop-shadow(0px 1px 2px rgba(0, 0, 0, 0.3));\n",
              "      fill: #FFFFFF;\n",
              "    }\n",
              "  </style>\n",
              "\n",
              "    <script>\n",
              "      const buttonEl =\n",
              "        document.querySelector('#df-195d0f03-84e7-4a89-978b-cbbc3f2aba2f button.colab-df-convert');\n",
              "      buttonEl.style.display =\n",
              "        google.colab.kernel.accessAllowed ? 'block' : 'none';\n",
              "\n",
              "      async function convertToInteractive(key) {\n",
              "        const element = document.querySelector('#df-195d0f03-84e7-4a89-978b-cbbc3f2aba2f');\n",
              "        const dataTable =\n",
              "          await google.colab.kernel.invokeFunction('convertToInteractive',\n",
              "                                                    [key], {});\n",
              "        if (!dataTable) return;\n",
              "\n",
              "        const docLinkHtml = 'Like what you see? Visit the ' +\n",
              "          '<a target=\"_blank\" href=https://colab.research.google.com/notebooks/data_table.ipynb>data table notebook</a>'\n",
              "          + ' to learn more about interactive tables.';\n",
              "        element.innerHTML = '';\n",
              "        dataTable['output_type'] = 'display_data';\n",
              "        await google.colab.output.renderOutput(dataTable, element);\n",
              "        const docLink = document.createElement('div');\n",
              "        docLink.innerHTML = docLinkHtml;\n",
              "        element.appendChild(docLink);\n",
              "      }\n",
              "    </script>\n",
              "  </div>\n",
              "\n",
              "\n",
              "<div id=\"df-1a598cd3-4d4c-4e40-a980-51d1a363dec7\">\n",
              "  <button class=\"colab-df-quickchart\" onclick=\"quickchart('df-1a598cd3-4d4c-4e40-a980-51d1a363dec7')\"\n",
              "            title=\"Suggest charts\"\n",
              "            style=\"display:none;\">\n",
              "\n",
              "<svg xmlns=\"http://www.w3.org/2000/svg\" height=\"24px\"viewBox=\"0 0 24 24\"\n",
              "     width=\"24px\">\n",
              "    <g>\n",
              "        <path d=\"M19 3H5c-1.1 0-2 .9-2 2v14c0 1.1.9 2 2 2h14c1.1 0 2-.9 2-2V5c0-1.1-.9-2-2-2zM9 17H7v-7h2v7zm4 0h-2V7h2v10zm4 0h-2v-4h2v4z\"/>\n",
              "    </g>\n",
              "</svg>\n",
              "  </button>\n",
              "\n",
              "<style>\n",
              "  .colab-df-quickchart {\n",
              "      --bg-color: #E8F0FE;\n",
              "      --fill-color: #1967D2;\n",
              "      --hover-bg-color: #E2EBFA;\n",
              "      --hover-fill-color: #174EA6;\n",
              "      --disabled-fill-color: #AAA;\n",
              "      --disabled-bg-color: #DDD;\n",
              "  }\n",
              "\n",
              "  [theme=dark] .colab-df-quickchart {\n",
              "      --bg-color: #3B4455;\n",
              "      --fill-color: #D2E3FC;\n",
              "      --hover-bg-color: #434B5C;\n",
              "      --hover-fill-color: #FFFFFF;\n",
              "      --disabled-bg-color: #3B4455;\n",
              "      --disabled-fill-color: #666;\n",
              "  }\n",
              "\n",
              "  .colab-df-quickchart {\n",
              "    background-color: var(--bg-color);\n",
              "    border: none;\n",
              "    border-radius: 50%;\n",
              "    cursor: pointer;\n",
              "    display: none;\n",
              "    fill: var(--fill-color);\n",
              "    height: 32px;\n",
              "    padding: 0;\n",
              "    width: 32px;\n",
              "  }\n",
              "\n",
              "  .colab-df-quickchart:hover {\n",
              "    background-color: var(--hover-bg-color);\n",
              "    box-shadow: 0 1px 2px rgba(60, 64, 67, 0.3), 0 1px 3px 1px rgba(60, 64, 67, 0.15);\n",
              "    fill: var(--button-hover-fill-color);\n",
              "  }\n",
              "\n",
              "  .colab-df-quickchart-complete:disabled,\n",
              "  .colab-df-quickchart-complete:disabled:hover {\n",
              "    background-color: var(--disabled-bg-color);\n",
              "    fill: var(--disabled-fill-color);\n",
              "    box-shadow: none;\n",
              "  }\n",
              "\n",
              "  .colab-df-spinner {\n",
              "    border: 2px solid var(--fill-color);\n",
              "    border-color: transparent;\n",
              "    border-bottom-color: var(--fill-color);\n",
              "    animation:\n",
              "      spin 1s steps(1) infinite;\n",
              "  }\n",
              "\n",
              "  @keyframes spin {\n",
              "    0% {\n",
              "      border-color: transparent;\n",
              "      border-bottom-color: var(--fill-color);\n",
              "      border-left-color: var(--fill-color);\n",
              "    }\n",
              "    20% {\n",
              "      border-color: transparent;\n",
              "      border-left-color: var(--fill-color);\n",
              "      border-top-color: var(--fill-color);\n",
              "    }\n",
              "    30% {\n",
              "      border-color: transparent;\n",
              "      border-left-color: var(--fill-color);\n",
              "      border-top-color: var(--fill-color);\n",
              "      border-right-color: var(--fill-color);\n",
              "    }\n",
              "    40% {\n",
              "      border-color: transparent;\n",
              "      border-right-color: var(--fill-color);\n",
              "      border-top-color: var(--fill-color);\n",
              "    }\n",
              "    60% {\n",
              "      border-color: transparent;\n",
              "      border-right-color: var(--fill-color);\n",
              "    }\n",
              "    80% {\n",
              "      border-color: transparent;\n",
              "      border-right-color: var(--fill-color);\n",
              "      border-bottom-color: var(--fill-color);\n",
              "    }\n",
              "    90% {\n",
              "      border-color: transparent;\n",
              "      border-bottom-color: var(--fill-color);\n",
              "    }\n",
              "  }\n",
              "</style>\n",
              "\n",
              "  <script>\n",
              "    async function quickchart(key) {\n",
              "      const quickchartButtonEl =\n",
              "        document.querySelector('#' + key + ' button');\n",
              "      quickchartButtonEl.disabled = true;  // To prevent multiple clicks.\n",
              "      quickchartButtonEl.classList.add('colab-df-spinner');\n",
              "      try {\n",
              "        const charts = await google.colab.kernel.invokeFunction(\n",
              "            'suggestCharts', [key], {});\n",
              "      } catch (error) {\n",
              "        console.error('Error during call to suggestCharts:', error);\n",
              "      }\n",
              "      quickchartButtonEl.classList.remove('colab-df-spinner');\n",
              "      quickchartButtonEl.classList.add('colab-df-quickchart-complete');\n",
              "    }\n",
              "    (() => {\n",
              "      let quickchartButtonEl =\n",
              "        document.querySelector('#df-1a598cd3-4d4c-4e40-a980-51d1a363dec7 button');\n",
              "      quickchartButtonEl.style.display =\n",
              "        google.colab.kernel.accessAllowed ? 'block' : 'none';\n",
              "    })();\n",
              "  </script>\n",
              "</div>\n",
              "\n",
              "  <div id=\"id_a2e93077-29fe-4563-9668-632a8f79a68c\">\n",
              "    <style>\n",
              "      .colab-df-generate {\n",
              "        background-color: #E8F0FE;\n",
              "        border: none;\n",
              "        border-radius: 50%;\n",
              "        cursor: pointer;\n",
              "        display: none;\n",
              "        fill: #1967D2;\n",
              "        height: 32px;\n",
              "        padding: 0 0 0 0;\n",
              "        width: 32px;\n",
              "      }\n",
              "\n",
              "      .colab-df-generate:hover {\n",
              "        background-color: #E2EBFA;\n",
              "        box-shadow: 0px 1px 2px rgba(60, 64, 67, 0.3), 0px 1px 3px 1px rgba(60, 64, 67, 0.15);\n",
              "        fill: #174EA6;\n",
              "      }\n",
              "\n",
              "      [theme=dark] .colab-df-generate {\n",
              "        background-color: #3B4455;\n",
              "        fill: #D2E3FC;\n",
              "      }\n",
              "\n",
              "      [theme=dark] .colab-df-generate:hover {\n",
              "        background-color: #434B5C;\n",
              "        box-shadow: 0px 1px 3px 1px rgba(0, 0, 0, 0.15);\n",
              "        filter: drop-shadow(0px 1px 2px rgba(0, 0, 0, 0.3));\n",
              "        fill: #FFFFFF;\n",
              "      }\n",
              "    </style>\n",
              "    <button class=\"colab-df-generate\" onclick=\"generateWithVariable('X')\"\n",
              "            title=\"Generate code using this dataframe.\"\n",
              "            style=\"display:none;\">\n",
              "\n",
              "  <svg xmlns=\"http://www.w3.org/2000/svg\" height=\"24px\"viewBox=\"0 0 24 24\"\n",
              "       width=\"24px\">\n",
              "    <path d=\"M7,19H8.4L18.45,9,17,7.55,7,17.6ZM5,21V16.75L18.45,3.32a2,2,0,0,1,2.83,0l1.4,1.43a1.91,1.91,0,0,1,.58,1.4,1.91,1.91,0,0,1-.58,1.4L9.25,21ZM18.45,9,17,7.55Zm-12,3A5.31,5.31,0,0,0,4.9,8.1,5.31,5.31,0,0,0,1,6.5,5.31,5.31,0,0,0,4.9,4.9,5.31,5.31,0,0,0,6.5,1,5.31,5.31,0,0,0,8.1,4.9,5.31,5.31,0,0,0,12,6.5,5.46,5.46,0,0,0,6.5,12Z\"/>\n",
              "  </svg>\n",
              "    </button>\n",
              "    <script>\n",
              "      (() => {\n",
              "      const buttonEl =\n",
              "        document.querySelector('#id_a2e93077-29fe-4563-9668-632a8f79a68c button.colab-df-generate');\n",
              "      buttonEl.style.display =\n",
              "        google.colab.kernel.accessAllowed ? 'block' : 'none';\n",
              "\n",
              "      buttonEl.onclick = () => {\n",
              "        google.colab.notebook.generateWithVariable('X');\n",
              "      }\n",
              "      })();\n",
              "    </script>\n",
              "  </div>\n",
              "\n",
              "    </div>\n",
              "  </div>\n"
            ],
            "application/vnd.google.colaboratory.intrinsic+json": {
              "type": "dataframe",
              "variable_name": "X"
            }
          },
          "metadata": {},
          "execution_count": 43
        }
      ]
    },
    {
      "cell_type": "markdown",
      "metadata": {
        "id": "sGQjCQtfhSwg"
      },
      "source": [
        "### **3.2. Output features**"
      ]
    },
    {
      "cell_type": "code",
      "metadata": {
        "id": "OWylAtAVhSwh",
        "colab": {
          "base_uri": "https://localhost:8080/"
        },
        "outputId": "0a0e07e2-135d-4813-ebeb-b8ac1aafcf6b"
      },
      "source": [
        "Y = df.pIC50\n",
        "Y"
      ],
      "execution_count": null,
      "outputs": [
        {
          "output_type": "execute_result",
          "data": {
            "text/plain": [
              "0     5.142668\n",
              "1     5.026872\n",
              "2     4.869666\n",
              "3     4.882397\n",
              "4     5.698970\n",
              "        ...   \n",
              "81    4.675718\n",
              "82    3.644548\n",
              "83    4.412289\n",
              "84    4.841638\n",
              "85    4.675718\n",
              "Name: pIC50, Length: 86, dtype: float64"
            ]
          },
          "metadata": {},
          "execution_count": 44
        }
      ]
    },
    {
      "cell_type": "markdown",
      "metadata": {
        "id": "E-zGSqXohSwx"
      },
      "source": [
        "### **3.3. Let's examine the data dimension**"
      ]
    },
    {
      "cell_type": "code",
      "metadata": {
        "id": "nhT04XtLhSwx",
        "colab": {
          "base_uri": "https://localhost:8080/"
        },
        "outputId": "2af96937-aa2c-4612-e0cb-2a14c2e22101"
      },
      "source": [
        "X.shape"
      ],
      "execution_count": null,
      "outputs": [
        {
          "output_type": "execute_result",
          "data": {
            "text/plain": [
              "(86, 881)"
            ]
          },
          "metadata": {},
          "execution_count": 45
        }
      ]
    },
    {
      "cell_type": "code",
      "metadata": {
        "id": "uzQlK8gNhSw0",
        "colab": {
          "base_uri": "https://localhost:8080/"
        },
        "outputId": "7457cdbc-b571-4d4c-b7d7-4c4a03f9b7e9"
      },
      "source": [
        "Y.shape"
      ],
      "execution_count": null,
      "outputs": [
        {
          "output_type": "execute_result",
          "data": {
            "text/plain": [
              "(86,)"
            ]
          },
          "metadata": {},
          "execution_count": 46
        }
      ]
    },
    {
      "cell_type": "markdown",
      "metadata": {
        "id": "0qQCpX097qf_"
      },
      "source": [
        "### **3.4. Remove low variance features**"
      ]
    },
    {
      "cell_type": "code",
      "metadata": {
        "id": "rjHK2SoI7tXI"
      },
      "source": [
        "from sklearn.feature_selection import VarianceThreshold\n",
        "selection = VarianceThreshold(threshold=(.8 * (1 - .8)))\n",
        "X = selection.fit_transform(X)"
      ],
      "execution_count": null,
      "outputs": []
    },
    {
      "cell_type": "code",
      "metadata": {
        "id": "nXcpQh_s8nx7",
        "colab": {
          "base_uri": "https://localhost:8080/"
        },
        "outputId": "25b85212-2c22-4b56-e0d8-47f09a1e709b"
      },
      "source": [
        "X.shape"
      ],
      "execution_count": null,
      "outputs": [
        {
          "output_type": "execute_result",
          "data": {
            "text/plain": [
              "(86, 185)"
            ]
          },
          "metadata": {},
          "execution_count": 48
        }
      ]
    },
    {
      "cell_type": "markdown",
      "metadata": {
        "id": "AjhOlkOVhSxR"
      },
      "source": [
        "## **4. Data split (80/20 ratio)**"
      ]
    },
    {
      "cell_type": "code",
      "metadata": {
        "id": "M1Bmg1HWhSxR"
      },
      "source": [
        "X_train, X_test, Y_train, Y_test = train_test_split(X, Y, test_size=0.2)"
      ],
      "execution_count": null,
      "outputs": []
    },
    {
      "cell_type": "code",
      "metadata": {
        "id": "uz1o3c1LhSxU",
        "colab": {
          "base_uri": "https://localhost:8080/"
        },
        "outputId": "f416a1b7-3876-4b57-8ae3-335ff6d292cf"
      },
      "source": [
        "X_train.shape, Y_train.shape"
      ],
      "execution_count": null,
      "outputs": [
        {
          "output_type": "execute_result",
          "data": {
            "text/plain": [
              "((68, 185), (68,))"
            ]
          },
          "metadata": {},
          "execution_count": 50
        }
      ]
    },
    {
      "cell_type": "code",
      "metadata": {
        "id": "4tnwDASChSxW",
        "colab": {
          "base_uri": "https://localhost:8080/"
        },
        "outputId": "5cf89f1b-14ab-4913-fbf1-2fde6399371d"
      },
      "source": [
        "X_test.shape, Y_test.shape"
      ],
      "execution_count": null,
      "outputs": [
        {
          "output_type": "execute_result",
          "data": {
            "text/plain": [
              "((18, 185), (18,))"
            ]
          },
          "metadata": {},
          "execution_count": 51
        }
      ]
    },
    {
      "cell_type": "markdown",
      "metadata": {
        "id": "PYsE-tIAhSw3"
      },
      "source": [
        "## **5. Building different Regression Models and figuring out which works the best!**"
      ]
    },
    {
      "cell_type": "code",
      "metadata": {
        "id": "YHM3DCD5wuNe",
        "colab": {
          "base_uri": "https://localhost:8080/"
        },
        "outputId": "dc99b350-2dd9-46e7-8330-7c225101c070"
      },
      "source": [
        "### RANDOM FOREST\n",
        "from sklearn.metrics import mean_squared_error as mse\n",
        "from sklearn.metrics import r2_score\n",
        "model = RandomForestRegressor(n_estimators=100)\n",
        "model.fit(X_train, Y_train)\n",
        "Y_pred = model.predict(X_test)\n",
        "r2 = r2_score(Y_test, Y_pred)\n",
        "print(\"R2 Score:\",r2)\n",
        "print(\"MSE Score:\",mse(Y_test, Y_pred))"
      ],
      "execution_count": null,
      "outputs": [
        {
          "output_type": "stream",
          "name": "stdout",
          "text": [
            "R2 Score: 0.5587870273727049\n",
            "MSE Score: 0.3090770988642117\n"
          ]
        }
      ]
    },
    {
      "cell_type": "code",
      "source": [
        "import seaborn as sns\n",
        "import matplotlib.pyplot as plt\n",
        "\n",
        "sns.set(color_codes=True)\n",
        "sns.set_style(\"white\")\n",
        "\n",
        "ax = sns.regplot(x=Y_test, y=Y_pred, scatter_kws={'alpha':0.4})\n",
        "ax.set_xlabel('Experimental pIC50', fontsize='large', fontweight='bold')\n",
        "ax.set_ylabel('Predicted pIC50', fontsize='large', fontweight='bold')\n",
        "ax.set_xlim(0, 12)\n",
        "ax.set_ylim(0, 12)\n",
        "ax.figure.set_size_inches(5, 5)\n",
        "plt.show()"
      ],
      "metadata": {
        "colab": {
          "base_uri": "https://localhost:8080/",
          "height": 480
        },
        "id": "rZSq1uxRFlRb",
        "outputId": "5390f1f7-510a-4d0b-b423-b0130c2bb685"
      },
      "execution_count": null,
      "outputs": [
        {
          "output_type": "display_data",
          "data": {
            "text/plain": [
              "<Figure size 500x500 with 1 Axes>"
            ],
            "image/png": "[encoded data removed]"
          },
          "metadata": {}
        }
      ]
    },
    {
      "cell_type": "code",
      "source": [
        "### LINEAR REGRESSION\n",
        "from sklearn.linear_model import LinearRegression\n",
        "\n",
        "model = LinearRegression()\n",
        "model.fit(X_train, Y_train)\n",
        "Y_pred = model.predict(X_test)\n",
        "r2 = r2_score(Y_test, Y_pred)\n",
        "print(\"R2 Score:\", r2)\n",
        "print(\"MSE Score:\",mse(Y_test, Y_pred))"
      ],
      "metadata": {
        "id": "eq2RU2H5VeT7",
        "colab": {
          "base_uri": "https://localhost:8080/"
        },
        "outputId": "d4489e31-2530-4f10-b816-5479828d544c"
      },
      "execution_count": null,
      "outputs": [
        {
          "output_type": "stream",
          "name": "stdout",
          "text": [
            "R2 Score: -1.3330870567377392e+22\n",
            "MSE Score: 9.33849876571924e+21\n"
          ]
        }
      ]
    },
    {
      "cell_type": "code",
      "source": [
        "import seaborn as sns\n",
        "import matplotlib.pyplot as plt\n",
        "\n",
        "sns.set(color_codes=True)\n",
        "sns.set_style(\"white\")\n",
        "\n",
        "ax = sns.regplot(x=Y_test, y=Y_pred, scatter_kws={'alpha':0.4})\n",
        "ax.set_xlabel('Experimental pIC50', fontsize='large', fontweight='bold')\n",
        "ax.set_ylabel('Predicted pIC50', fontsize='large', fontweight='bold')\n",
        "ax.set_xlim(0, 12)\n",
        "ax.set_ylim(0, 12)\n",
        "ax.figure.set_size_inches(5, 5)\n",
        "plt.show()"
      ],
      "metadata": {
        "colab": {
          "base_uri": "https://localhost:8080/",
          "height": 480
        },
        "id": "NCOb5309Fmlq",
        "outputId": "1ed65ddc-5fb8-455e-dc6c-bc1bf593a838"
      },
      "execution_count": null,
      "outputs": [
        {
          "output_type": "display_data",
          "data": {
            "text/plain": [
              "<Figure size 500x500 with 1 Axes>"
            ],
            "image/png": "[encoded data removed]"
          },
          "metadata": {}
        }
      ]
    },
    {
      "cell_type": "code",
      "source": [
        "### DECISION TREE ###\n",
        "from sklearn.tree import DecisionTreeRegressor\n",
        "from sklearn.metrics import mean_squared_error, r2_score\n",
        "regressor = DecisionTreeRegressor()\n",
        "regressor.fit(X_train, Y_train)\n",
        "Y_pred = regressor.predict(X_test)\n",
        "mse = mean_squared_error(Y_test, Y_pred)\n",
        "print(f\"Mean Squared Error: {mse}\")\n",
        "r2 = r2_score(Y_test, Y_pred)\n",
        "print(f\"R-squared: {r2}\")"
      ],
      "metadata": {
        "colab": {
          "base_uri": "https://localhost:8080/"
        },
        "id": "JbR5teujD6tS",
        "outputId": "15239351-8e0a-44c2-aaf0-1f57233bf26f"
      },
      "execution_count": null,
      "outputs": [
        {
          "output_type": "stream",
          "name": "stdout",
          "text": [
            "Mean Squared Error: 0.32871911073405563\n",
            "R-squared: 0.5307477113660477\n"
          ]
        }
      ]
    },
    {
      "cell_type": "code",
      "source": [
        "import seaborn as sns\n",
        "import matplotlib.pyplot as plt\n",
        "\n",
        "sns.set(color_codes=True)\n",
        "sns.set_style(\"white\")\n",
        "\n",
        "ax = sns.regplot(x=Y_test, y=Y_pred, scatter_kws={'alpha':0.4})\n",
        "ax.set_xlabel('Experimental pIC50', fontsize='large', fontweight='bold')\n",
        "ax.set_ylabel('Predicted pIC50', fontsize='large', fontweight='bold')\n",
        "ax.set_xlim(0, 12)\n",
        "ax.set_ylim(0, 12)\n",
        "ax.figure.set_size_inches(5, 5)\n",
        "plt.show()"
      ],
      "metadata": {
        "colab": {
          "base_uri": "https://localhost:8080/",
          "height": 480
        },
        "id": "XhiJHzd6FpeN",
        "outputId": "fc7f6b86-2004-4dd0-dc39-a7499ce82135"
      },
      "execution_count": null,
      "outputs": [
        {
          "output_type": "display_data",
          "data": {
            "text/plain": [
              "<Figure size 500x500 with 1 Axes>"
            ],
            "image/png": "[encoded data removed]"
          },
          "metadata": {}
        }
      ]
    },
    {
      "cell_type": "code",
      "source": [
        "### NEURAL NETWORK ###\n",
        "from keras import Sequential\n",
        "from keras.layers import Dense\n",
        "from sklearn.preprocessing import StandardScaler\n",
        "import numpy as np\n",
        "\n",
        "model = Sequential()\n",
        "model.add(Dense(128, activation = 'relu', input_dim = 185))\n",
        "model.add(Dense(64, activation='relu'))\n",
        "model.add(Dense(32, activation='relu'))\n",
        "model.add(Dense(8, activation='relu'))\n",
        "model.add(Dense(1, activation = 'linear'))\n",
        "model.compile(optimizer=\"Adam\", loss=\"mse\")\n",
        "history = model.fit(X_train, Y_train, epochs = 100, validation_split = 0.2)\n",
        "import matplotlib.pyplot as plt\n",
        "plt.plot(history.history['loss'])\n",
        "plt.plot(history.history['val_loss'])\n",
        "Y_pred = model.predict(X_test)\n",
        "print(\"R2 Score:\",r2_score(Y_test, Y_pred))\n",
        "print(\"MSE Score:\",mean_squared_error(Y_test, Y_pred))"
      ],
      "metadata": {
        "id": "pjh8F4BlVjxf",
        "colab": {
          "base_uri": "https://localhost:8080/",
          "height": 1000
        },
        "outputId": "81a6eb5f-2abb-4b5a-e870-d37f95dd7cfa"
      },
      "execution_count": null,
      "outputs": [
        {
          "output_type": "stream",
          "name": "stdout",
          "text": [
            "Epoch 1/100\n",
            "2/2 [==============================] - 4s 493ms/step - loss: 21.7904 - val_loss: 19.2672\n",
            "Epoch 2/100\n",
            "2/2 [==============================] - 0s 104ms/step - loss: 16.1747 - val_loss: 13.6615\n",
            "Epoch 3/100\n",
            "2/2 [==============================] - 0s 133ms/step - loss: 11.0554 - val_loss: 8.5839\n",
            "Epoch 4/100\n",
            "2/2 [==============================] - 0s 62ms/step - loss: 6.5848 - val_loss: 4.7497\n",
            "Epoch 5/100\n",
            "2/2 [==============================] - 0s 71ms/step - loss: 3.5858 - val_loss: 3.1881\n",
            "Epoch 6/100\n",
            "2/2 [==============================] - 0s 82ms/step - loss: 3.1035 - val_loss: 3.6358\n",
            "Epoch 7/100\n",
            "2/2 [==============================] - 0s 169ms/step - loss: 3.5153 - val_loss: 3.4998\n",
            "Epoch 8/100\n",
            "2/2 [==============================] - 0s 109ms/step - loss: 3.4414 - val_loss: 2.7649\n",
            "Epoch 9/100\n",
            "2/2 [==============================] - 0s 77ms/step - loss: 2.6013 - val_loss: 2.0845\n",
            "Epoch 10/100\n",
            "2/2 [==============================] - 0s 116ms/step - loss: 1.7992 - val_loss: 1.8812\n",
            "Epoch 11/100\n",
            "2/2 [==============================] - 0s 79ms/step - loss: 1.2998 - val_loss: 2.0182\n",
            "Epoch 12/100\n",
            "2/2 [==============================] - 0s 94ms/step - loss: 1.1683 - val_loss: 2.1663\n",
            "Epoch 13/100\n",
            "2/2 [==============================] - 0s 106ms/step - loss: 1.1497 - val_loss: 2.1517\n",
            "Epoch 14/100\n",
            "2/2 [==============================] - 0s 87ms/step - loss: 1.0464 - val_loss: 1.9677\n",
            "Epoch 15/100\n",
            "2/2 [==============================] - 0s 154ms/step - loss: 0.8892 - val_loss: 1.6733\n",
            "Epoch 16/100\n",
            "2/2 [==============================] - 0s 120ms/step - loss: 0.7708 - val_loss: 1.4125\n",
            "Epoch 17/100\n",
            "2/2 [==============================] - 0s 94ms/step - loss: 0.7144 - val_loss: 1.2899\n",
            "Epoch 18/100\n",
            "2/2 [==============================] - 0s 117ms/step - loss: 0.7356 - val_loss: 1.2625\n",
            "Epoch 19/100\n",
            "2/2 [==============================] - 0s 145ms/step - loss: 0.6708 - val_loss: 1.3004\n",
            "Epoch 20/100\n",
            "2/2 [==============================] - 0s 56ms/step - loss: 0.5627 - val_loss: 1.3840\n",
            "Epoch 21/100\n",
            "2/2 [==============================] - 0s 133ms/step - loss: 0.5019 - val_loss: 1.4638\n",
            "Epoch 22/100\n",
            "2/2 [==============================] - 0s 84ms/step - loss: 0.4853 - val_loss: 1.4819\n",
            "Epoch 23/100\n",
            "2/2 [==============================] - 0s 77ms/step - loss: 0.4853 - val_loss: 1.4275\n",
            "Epoch 24/100\n",
            "2/2 [==============================] - 0s 137ms/step - loss: 0.4451 - val_loss: 1.3307\n",
            "Epoch 25/100\n",
            "2/2 [==============================] - 0s 150ms/step - loss: 0.4089 - val_loss: 1.2294\n",
            "Epoch 26/100\n",
            "2/2 [==============================] - 0s 160ms/step - loss: 0.3788 - val_loss: 1.1656\n",
            "Epoch 27/100\n",
            "2/2 [==============================] - 0s 88ms/step - loss: 0.3689 - val_loss: 1.1317\n",
            "Epoch 28/100\n",
            "2/2 [==============================] - 0s 54ms/step - loss: 0.3541 - val_loss: 1.1343\n",
            "Epoch 29/100\n",
            "2/2 [==============================] - 0s 66ms/step - loss: 0.3285 - val_loss: 1.1770\n",
            "Epoch 30/100\n",
            "2/2 [==============================] - 0s 75ms/step - loss: 0.3070 - val_loss: 1.2294\n",
            "Epoch 31/100\n",
            "2/2 [==============================] - 0s 55ms/step - loss: 0.3049 - val_loss: 1.2617\n",
            "Epoch 32/100\n",
            "2/2 [==============================] - 0s 72ms/step - loss: 0.2947 - val_loss: 1.2507\n",
            "Epoch 33/100\n",
            "2/2 [==============================] - 0s 68ms/step - loss: 0.2846 - val_loss: 1.1978\n",
            "Epoch 34/100\n",
            "2/2 [==============================] - 0s 78ms/step - loss: 0.2650 - val_loss: 1.1568\n",
            "Epoch 35/100\n",
            "2/2 [==============================] - 0s 72ms/step - loss: 0.2548 - val_loss: 1.1326\n",
            "Epoch 36/100\n",
            "2/2 [==============================] - 0s 137ms/step - loss: 0.2498 - val_loss: 1.1239\n",
            "Epoch 37/100\n",
            "2/2 [==============================] - 0s 76ms/step - loss: 0.2441 - val_loss: 1.1365\n",
            "Epoch 38/100\n",
            "2/2 [==============================] - 0s 89ms/step - loss: 0.2345 - val_loss: 1.1677\n",
            "Epoch 39/100\n",
            "2/2 [==============================] - 0s 149ms/step - loss: 0.2288 - val_loss: 1.1953\n",
            "Epoch 40/100\n",
            "2/2 [==============================] - 0s 143ms/step - loss: 0.2208 - val_loss: 1.1919\n",
            "Epoch 41/100\n",
            "2/2 [==============================] - 0s 236ms/step - loss: 0.2150 - val_loss: 1.1777\n",
            "Epoch 42/100\n",
            "2/2 [==============================] - 0s 95ms/step - loss: 0.2078 - val_loss: 1.1668\n",
            "Epoch 43/100\n",
            "2/2 [==============================] - 0s 80ms/step - loss: 0.2052 - val_loss: 1.1519\n",
            "Epoch 44/100\n",
            "2/2 [==============================] - 0s 76ms/step - loss: 0.1998 - val_loss: 1.1533\n",
            "Epoch 45/100\n",
            "2/2 [==============================] - 0s 131ms/step - loss: 0.1936 - val_loss: 1.1508\n",
            "Epoch 46/100\n",
            "2/2 [==============================] - 0s 206ms/step - loss: 0.1898 - val_loss: 1.1465\n",
            "Epoch 47/100\n",
            "2/2 [==============================] - 0s 188ms/step - loss: 0.1856 - val_loss: 1.1505\n",
            "Epoch 48/100\n",
            "2/2 [==============================] - 0s 109ms/step - loss: 0.1810 - val_loss: 1.1656\n",
            "Epoch 49/100\n",
            "2/2 [==============================] - 0s 84ms/step - loss: 0.1774 - val_loss: 1.1740\n",
            "Epoch 50/100\n",
            "2/2 [==============================] - 0s 157ms/step - loss: 0.1739 - val_loss: 1.1756\n",
            "Epoch 51/100\n",
            "2/2 [==============================] - 0s 225ms/step - loss: 0.1709 - val_loss: 1.1667\n",
            "Epoch 52/100\n",
            "2/2 [==============================] - 0s 221ms/step - loss: 0.1671 - val_loss: 1.1491\n",
            "Epoch 53/100\n",
            "2/2 [==============================] - 0s 121ms/step - loss: 0.1640 - val_loss: 1.1469\n",
            "Epoch 54/100\n",
            "2/2 [==============================] - 0s 122ms/step - loss: 0.1614 - val_loss: 1.1627\n",
            "Epoch 55/100\n",
            "2/2 [==============================] - 0s 130ms/step - loss: 0.1573 - val_loss: 1.1769\n",
            "Epoch 56/100\n",
            "2/2 [==============================] - 0s 168ms/step - loss: 0.1552 - val_loss: 1.1899\n",
            "Epoch 57/100\n",
            "2/2 [==============================] - 0s 166ms/step - loss: 0.1517 - val_loss: 1.1811\n",
            "Epoch 58/100\n",
            "2/2 [==============================] - 0s 105ms/step - loss: 0.1504 - val_loss: 1.1755\n",
            "Epoch 59/100\n",
            "2/2 [==============================] - 0s 199ms/step - loss: 0.1464 - val_loss: 1.1657\n",
            "Epoch 60/100\n",
            "2/2 [==============================] - 0s 183ms/step - loss: 0.1443 - val_loss: 1.1685\n",
            "Epoch 61/100\n",
            "2/2 [==============================] - 0s 138ms/step - loss: 0.1415 - val_loss: 1.1741\n",
            "Epoch 62/100\n",
            "2/2 [==============================] - 0s 162ms/step - loss: 0.1381 - val_loss: 1.1799\n",
            "Epoch 63/100\n",
            "2/2 [==============================] - 0s 120ms/step - loss: 0.1362 - val_loss: 1.1904\n",
            "Epoch 64/100\n",
            "2/2 [==============================] - 0s 143ms/step - loss: 0.1322 - val_loss: 1.2054\n",
            "Epoch 65/100\n",
            "2/2 [==============================] - 0s 137ms/step - loss: 0.1297 - val_loss: 1.2107\n",
            "Epoch 66/100\n",
            "2/2 [==============================] - 0s 101ms/step - loss: 0.1280 - val_loss: 1.2068\n",
            "Epoch 67/100\n",
            "2/2 [==============================] - 0s 114ms/step - loss: 0.1254 - val_loss: 1.1979\n",
            "Epoch 68/100\n",
            "2/2 [==============================] - 0s 153ms/step - loss: 0.1227 - val_loss: 1.1854\n",
            "Epoch 69/100\n",
            "2/2 [==============================] - 0s 299ms/step - loss: 0.1205 - val_loss: 1.1863\n",
            "Epoch 70/100\n",
            "2/2 [==============================] - 0s 236ms/step - loss: 0.1188 - val_loss: 1.2037\n",
            "Epoch 71/100\n",
            "2/2 [==============================] - 0s 304ms/step - loss: 0.1171 - val_loss: 1.2184\n",
            "Epoch 72/100\n",
            "2/2 [==============================] - 0s 306ms/step - loss: 0.1141 - val_loss: 1.2206\n",
            "Epoch 73/100\n",
            "2/2 [==============================] - 0s 273ms/step - loss: 0.1126 - val_loss: 1.2147\n",
            "Epoch 74/100\n",
            "2/2 [==============================] - 0s 96ms/step - loss: 0.1102 - val_loss: 1.2062\n",
            "Epoch 75/100\n",
            "2/2 [==============================] - 0s 53ms/step - loss: 0.1080 - val_loss: 1.1987\n",
            "Epoch 76/100\n",
            "2/2 [==============================] - 0s 59ms/step - loss: 0.1061 - val_loss: 1.2009\n",
            "Epoch 77/100\n",
            "2/2 [==============================] - 0s 68ms/step - loss: 0.1049 - val_loss: 1.2092\n",
            "Epoch 78/100\n",
            "2/2 [==============================] - 0s 48ms/step - loss: 0.1034 - val_loss: 1.2223\n",
            "Epoch 79/100\n",
            "2/2 [==============================] - 0s 36ms/step - loss: 0.1005 - val_loss: 1.2307\n",
            "Epoch 80/100\n",
            "2/2 [==============================] - 0s 38ms/step - loss: 0.1022 - val_loss: 1.2351\n",
            "Epoch 81/100\n",
            "2/2 [==============================] - 0s 36ms/step - loss: 0.0972 - val_loss: 1.2115\n",
            "Epoch 82/100\n",
            "2/2 [==============================] - 0s 36ms/step - loss: 0.0981 - val_loss: 1.1979\n",
            "Epoch 83/100\n",
            "2/2 [==============================] - 0s 38ms/step - loss: 0.0946 - val_loss: 1.2166\n",
            "Epoch 84/100\n",
            "2/2 [==============================] - 0s 48ms/step - loss: 0.0924 - val_loss: 1.2377\n",
            "Epoch 85/100\n",
            "2/2 [==============================] - 0s 35ms/step - loss: 0.0914 - val_loss: 1.2368\n",
            "Epoch 86/100\n",
            "2/2 [==============================] - 0s 68ms/step - loss: 0.0890 - val_loss: 1.2331\n",
            "Epoch 87/100\n",
            "2/2 [==============================] - 0s 45ms/step - loss: 0.0896 - val_loss: 1.2272\n",
            "Epoch 88/100\n",
            "2/2 [==============================] - 0s 61ms/step - loss: 0.0858 - val_loss: 1.2042\n",
            "Epoch 89/100\n",
            "2/2 [==============================] - 0s 45ms/step - loss: 0.0864 - val_loss: 1.2008\n",
            "Epoch 90/100\n",
            "2/2 [==============================] - 0s 48ms/step - loss: 0.0855 - val_loss: 1.2331\n",
            "Epoch 91/100\n",
            "2/2 [==============================] - 0s 62ms/step - loss: 0.0815 - val_loss: 1.2489\n",
            "Epoch 92/100\n",
            "2/2 [==============================] - 0s 45ms/step - loss: 0.0805 - val_loss: 1.2569\n",
            "Epoch 93/100\n",
            "2/2 [==============================] - 0s 37ms/step - loss: 0.0791 - val_loss: 1.2440\n",
            "Epoch 94/100\n",
            "2/2 [==============================] - 0s 37ms/step - loss: 0.0774 - val_loss: 1.2306\n",
            "Epoch 95/100\n",
            "2/2 [==============================] - 0s 37ms/step - loss: 0.0763 - val_loss: 1.2217\n",
            "Epoch 96/100\n",
            "2/2 [==============================] - 0s 38ms/step - loss: 0.0747 - val_loss: 1.2271\n",
            "Epoch 97/100\n",
            "2/2 [==============================] - 0s 37ms/step - loss: 0.0732 - val_loss: 1.2423\n",
            "Epoch 98/100\n",
            "2/2 [==============================] - 0s 36ms/step - loss: 0.0724 - val_loss: 1.2545\n",
            "Epoch 99/100\n",
            "2/2 [==============================] - 0s 36ms/step - loss: 0.0707 - val_loss: 1.2365\n",
            "Epoch 100/100\n",
            "2/2 [==============================] - 0s 34ms/step - loss: 0.0696 - val_loss: 1.2221\n",
            "1/1 [==============================] - 0s 79ms/step\n",
            "R2 Score: 0.7689816364564424\n",
            "MSE Score: 0.16183224433139282\n"
          ]
        },
        {
          "output_type": "display_data",
          "data": {
            "text/plain": [
              "<Figure size 640x480 with 1 Axes>"
            ],
            "image/png": "[encoded data removed]"
          },
          "metadata": {}
        }
      ]
    },
    {
      "cell_type": "code",
      "source": [
        "### K NEIGHBOURS REGRESSOR ###\n",
        "from sklearn.preprocessing import StandardScaler\n",
        "scaler = StandardScaler()\n",
        "X_train= scaler.fit_transform(X_train)\n",
        "X_test = scaler.transform(X_test)\n",
        "from sklearn.model_selection import GridSearchCV\n",
        "param_grid = {\n",
        "    'n_neighbors': [3, 5, 7, 9, 11, 13, 15],\n",
        "    'weights': ['uniform', 'distance'],\n",
        "    'p': [1, 2]\n",
        "}\n",
        "from sklearn.neighbors import KNeighborsRegressor\n",
        "from sklearn.metrics import mean_squared_error, r2_score\n",
        "knn = KNeighborsRegressor()\n",
        "# knn.fit(X_train, Y_train)\n",
        "grid_search = GridSearchCV(knn, param_grid, cv=5, scoring='r2', n_jobs=-1)\n",
        "grid_search.fit(X_train, Y_train)\n",
        "print(f'Best parameters: {grid_search.best_params_}')\n",
        "print(f'Best R² score: {grid_search.best_score_:.2f}')\n",
        "\n",
        "Y_pred=grid_search.best_estimator_.predict(X_test)\n",
        "mse= mean_squared_error(Y_test, Y_pred)\n",
        "r2 = r2_score(Y_test, Y_pred)\n",
        "print(\"MSE Score:\",mse, \"\\nR2 Score:\",r2)"
      ],
      "metadata": {
        "colab": {
          "base_uri": "https://localhost:8080/"
        },
        "id": "fRO3HnvBFb92",
        "outputId": "60d8c34d-992f-4dbd-9aa1-a92acbeaec5c"
      },
      "execution_count": null,
      "outputs": [
        {
          "output_type": "stream",
          "name": "stderr",
          "text": [
            "/usr/local/lib/python3.10/dist-packages/joblib/externals/loky/backend/fork_exec.py:38: RuntimeWarning: os.fork() was called. os.fork() is incompatible with multithreaded code, and JAX is multithreaded, so this will likely lead to a deadlock.\n",
            "  pid = os.fork()\n"
          ]
        },
        {
          "output_type": "stream",
          "name": "stdout",
          "text": [
            "Best parameters: {'n_neighbors': 11, 'p': 1, 'weights': 'distance'}\n",
            "Best R² score: 0.48\n",
            "MSE Score: 0.1859838890158649 \n",
            "R2 Score: 0.7345047406131961\n"
          ]
        }
      ]
    },
    {
      "cell_type": "code",
      "source": [
        "import seaborn as sns\n",
        "import matplotlib.pyplot as plt\n",
        "\n",
        "sns.set(color_codes=True)\n",
        "sns.set_style(\"white\")\n",
        "\n",
        "ax = sns.regplot(x=Y_test, y=Y_pred, scatter_kws={'alpha':0.4})\n",
        "ax.set_xlabel('Experimental pIC50', fontsize='large', fontweight='bold')\n",
        "ax.set_ylabel('Predicted pIC50', fontsize='large', fontweight='bold')\n",
        "ax.set_xlim(0, 12)\n",
        "ax.set_ylim(0, 12)\n",
        "ax.figure.set_size_inches(5, 5)\n",
        "plt.show()"
      ],
      "metadata": {
        "colab": {
          "base_uri": "https://localhost:8080/",
          "height": 480
        },
        "id": "U6eWijp2FrlN",
        "outputId": "8a5420d6-05ff-4ff4-dea8-91bfe37d3a8b"
      },
      "execution_count": null,
      "outputs": [
        {
          "output_type": "display_data",
          "data": {
            "text/plain": [
              "<Figure size 500x500 with 1 Axes>"
            ],
            "image/png": "[encoded data removed]"
          },
          "metadata": {}
        }
      ]
    },
    {
      "cell_type": "markdown",
      "source": [
        "##**R2 Scores for:**\n",
        "\n",
        "RandomForest: 0.55\n",
        "\n",
        "Linear reg: -1.33e22\n",
        "\n",
        "Decision Tree: 0.53\n",
        "\n",
        "Neural Network: 0.76\n",
        "\n",
        "KNeighbours Regressor: 0.73\n",
        "\n",
        "##**MSE for:**\n",
        "\n",
        "RandomForest: 0.30\n",
        "\n",
        "Linear reg: 9.33e21\n",
        "\n",
        "Decision Tree: 0.32\n",
        "\n",
        "Neural Network: 0.16\n",
        "\n",
        "KNeighbours Regressor: 0.18"
      ],
      "metadata": {
        "id": "J4L5hREYof5w"
      }
    },
    {
      "cell_type": "code",
      "source": [],
      "metadata": {
        "id": "0retmwAqpnQC"
      },
      "execution_count": null,
      "outputs": []
    }
  ]
}